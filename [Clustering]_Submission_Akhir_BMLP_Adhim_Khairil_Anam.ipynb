{
  "nbformat": 4,
  "nbformat_minor": 0,
  "metadata": {
    "colab": {
      "provenance": []
    },
    "kernelspec": {
      "name": "python3",
      "display_name": "Python 3"
    },
    "language_info": {
      "name": "python"
    }
  },
  "cells": [
    {
      "cell_type": "markdown",
      "source": [
        "# **1. Perkenalan Dataset**\n"
      ],
      "metadata": {
        "id": "kZLRMFl0JyyQ"
      }
    },
    {
      "cell_type": "markdown",
      "source": [
        "Tahap pertama, Anda harus mencari dan menggunakan dataset **tanpa label** dengan ketentuan sebagai berikut:\n",
        "\n",
        "1. **Sumber Dataset**:  \n",
        "   Dataset dapat diperoleh dari berbagai sumber, seperti public repositories (*Kaggle*, *UCI ML Repository*, *Open Data*) atau data primer yang Anda kumpulkan sendiri.\n",
        "   \n",
        "2. **Ketentuan Dataset**:\n",
        "   - **Tanpa label**: Dataset tidak boleh memiliki label atau kelas.\n",
        "   - **Jumlah Baris**: Minimal 1000 baris untuk memastikan dataset cukup besar untuk analisis yang bermakna.\n",
        "   - **Tipe Data**: Harus mengandung data **kategorikal** dan **numerikal**.\n",
        "     - *Kategorikal*: Misalnya jenis kelamin, kategori produk.\n",
        "     - *Numerikal*: Misalnya usia, pendapatan, harga.\n",
        "\n",
        "3. **Pembatasan**:  \n",
        "   Dataset yang sudah digunakan dalam latihan clustering (seperti customer segmentation) tidak boleh digunakan."
      ],
      "metadata": {
        "id": "hssSDn-5n3HR"
      }
    },
    {
      "cell_type": "markdown",
      "source": [
        "# **2. Import Library**"
      ],
      "metadata": {
        "id": "fKADPWcFKlj3"
      }
    },
    {
      "cell_type": "markdown",
      "source": [
        "Pada tahap ini, Anda perlu mengimpor beberapa pustaka (library) Python yang dibutuhkan untuk analisis data dan pembangunan model machine learning."
      ],
      "metadata": {
        "id": "LgA3ERnVn84N"
      }
    },
    {
      "cell_type": "code",
      "source": [
        "import pandas as pd\n",
        "import numpy as np\n",
        "import matplotlib.pyplot as plt\n",
        "import seaborn as sns\n",
        "from sklearn.preprocessing import StandardScaler\n",
        "from sklearn.preprocessing import LabelEncoder\n",
        "from sklearn.cluster import KMeans\n",
        "from sklearn.metrics import silhouette_score\n",
        "from yellowbrick.cluster import KElbowVisualizer\n",
        "from sklearn.preprocessing import MinMaxScaler\n",
        "from sklearn.decomposition import PCA"
      ],
      "metadata": {
        "id": "BlmvjLY9M4Yj"
      },
      "execution_count": 1,
      "outputs": []
    },
    {
      "cell_type": "markdown",
      "source": [
        "# **3. Memuat Dataset**"
      ],
      "metadata": {
        "id": "f3YIEnAFKrKL"
      }
    },
    {
      "cell_type": "markdown",
      "source": [
        "Pada tahap ini, Anda perlu memuat dataset ke dalam notebook. Jika dataset dalam format CSV, Anda bisa menggunakan pustaka pandas untuk membacanya. Pastikan untuk mengecek beberapa baris awal dataset untuk memahami strukturnya dan memastikan data telah dimuat dengan benar.\n",
        "\n",
        "Jika dataset berada di Google Drive, pastikan Anda menghubungkan Google Drive ke Colab terlebih dahulu. Setelah dataset berhasil dimuat, langkah berikutnya adalah memeriksa kesesuaian data dan siap untuk dianalisis lebih lanjut."
      ],
      "metadata": {
        "id": "Ey3ItwTen_7E"
      }
    },
    {
      "cell_type": "code",
      "source": [
        "data=pd.read_csv('data_cleaned.csv')\n",
        "data"
      ],
      "metadata": {
        "id": "GHCGNTyrM5fS",
        "outputId": "dc88df56-e5ed-4699-a49f-5c8d25a1ba6a",
        "colab": {
          "base_uri": "https://localhost:8080/",
          "height": 304
        }
      },
      "execution_count": 2,
      "outputs": [
        {
          "output_type": "error",
          "ename": "FileNotFoundError",
          "evalue": "[Errno 2] No such file or directory: 'data_cleaned.csv'",
          "traceback": [
            "\u001b[0;31m---------------------------------------------------------------------------\u001b[0m",
            "\u001b[0;31mFileNotFoundError\u001b[0m                         Traceback (most recent call last)",
            "\u001b[0;32m<ipython-input-2-b88704a2f1aa>\u001b[0m in \u001b[0;36m<cell line: 0>\u001b[0;34m()\u001b[0m\n\u001b[0;32m----> 1\u001b[0;31m \u001b[0mdata\u001b[0m\u001b[0;34m=\u001b[0m\u001b[0mpd\u001b[0m\u001b[0;34m.\u001b[0m\u001b[0mread_csv\u001b[0m\u001b[0;34m(\u001b[0m\u001b[0;34m'data_cleaned.csv'\u001b[0m\u001b[0;34m)\u001b[0m\u001b[0;34m\u001b[0m\u001b[0;34m\u001b[0m\u001b[0m\n\u001b[0m\u001b[1;32m      2\u001b[0m \u001b[0mdata\u001b[0m\u001b[0;34m\u001b[0m\u001b[0;34m\u001b[0m\u001b[0m\n",
            "\u001b[0;32m/usr/local/lib/python3.11/dist-packages/pandas/io/parsers/readers.py\u001b[0m in \u001b[0;36mread_csv\u001b[0;34m(filepath_or_buffer, sep, delimiter, header, names, index_col, usecols, dtype, engine, converters, true_values, false_values, skipinitialspace, skiprows, skipfooter, nrows, na_values, keep_default_na, na_filter, verbose, skip_blank_lines, parse_dates, infer_datetime_format, keep_date_col, date_parser, date_format, dayfirst, cache_dates, iterator, chunksize, compression, thousands, decimal, lineterminator, quotechar, quoting, doublequote, escapechar, comment, encoding, encoding_errors, dialect, on_bad_lines, delim_whitespace, low_memory, memory_map, float_precision, storage_options, dtype_backend)\u001b[0m\n\u001b[1;32m   1024\u001b[0m     \u001b[0mkwds\u001b[0m\u001b[0;34m.\u001b[0m\u001b[0mupdate\u001b[0m\u001b[0;34m(\u001b[0m\u001b[0mkwds_defaults\u001b[0m\u001b[0;34m)\u001b[0m\u001b[0;34m\u001b[0m\u001b[0;34m\u001b[0m\u001b[0m\n\u001b[1;32m   1025\u001b[0m \u001b[0;34m\u001b[0m\u001b[0m\n\u001b[0;32m-> 1026\u001b[0;31m     \u001b[0;32mreturn\u001b[0m \u001b[0m_read\u001b[0m\u001b[0;34m(\u001b[0m\u001b[0mfilepath_or_buffer\u001b[0m\u001b[0;34m,\u001b[0m \u001b[0mkwds\u001b[0m\u001b[0;34m)\u001b[0m\u001b[0;34m\u001b[0m\u001b[0;34m\u001b[0m\u001b[0m\n\u001b[0m\u001b[1;32m   1027\u001b[0m \u001b[0;34m\u001b[0m\u001b[0m\n\u001b[1;32m   1028\u001b[0m \u001b[0;34m\u001b[0m\u001b[0m\n",
            "\u001b[0;32m/usr/local/lib/python3.11/dist-packages/pandas/io/parsers/readers.py\u001b[0m in \u001b[0;36m_read\u001b[0;34m(filepath_or_buffer, kwds)\u001b[0m\n\u001b[1;32m    618\u001b[0m \u001b[0;34m\u001b[0m\u001b[0m\n\u001b[1;32m    619\u001b[0m     \u001b[0;31m# Create the parser.\u001b[0m\u001b[0;34m\u001b[0m\u001b[0;34m\u001b[0m\u001b[0m\n\u001b[0;32m--> 620\u001b[0;31m     \u001b[0mparser\u001b[0m \u001b[0;34m=\u001b[0m \u001b[0mTextFileReader\u001b[0m\u001b[0;34m(\u001b[0m\u001b[0mfilepath_or_buffer\u001b[0m\u001b[0;34m,\u001b[0m \u001b[0;34m**\u001b[0m\u001b[0mkwds\u001b[0m\u001b[0;34m)\u001b[0m\u001b[0;34m\u001b[0m\u001b[0;34m\u001b[0m\u001b[0m\n\u001b[0m\u001b[1;32m    621\u001b[0m \u001b[0;34m\u001b[0m\u001b[0m\n\u001b[1;32m    622\u001b[0m     \u001b[0;32mif\u001b[0m \u001b[0mchunksize\u001b[0m \u001b[0;32mor\u001b[0m \u001b[0miterator\u001b[0m\u001b[0;34m:\u001b[0m\u001b[0;34m\u001b[0m\u001b[0;34m\u001b[0m\u001b[0m\n",
            "\u001b[0;32m/usr/local/lib/python3.11/dist-packages/pandas/io/parsers/readers.py\u001b[0m in \u001b[0;36m__init__\u001b[0;34m(self, f, engine, **kwds)\u001b[0m\n\u001b[1;32m   1618\u001b[0m \u001b[0;34m\u001b[0m\u001b[0m\n\u001b[1;32m   1619\u001b[0m         \u001b[0mself\u001b[0m\u001b[0;34m.\u001b[0m\u001b[0mhandles\u001b[0m\u001b[0;34m:\u001b[0m \u001b[0mIOHandles\u001b[0m \u001b[0;34m|\u001b[0m \u001b[0;32mNone\u001b[0m \u001b[0;34m=\u001b[0m \u001b[0;32mNone\u001b[0m\u001b[0;34m\u001b[0m\u001b[0;34m\u001b[0m\u001b[0m\n\u001b[0;32m-> 1620\u001b[0;31m         \u001b[0mself\u001b[0m\u001b[0;34m.\u001b[0m\u001b[0m_engine\u001b[0m \u001b[0;34m=\u001b[0m \u001b[0mself\u001b[0m\u001b[0;34m.\u001b[0m\u001b[0m_make_engine\u001b[0m\u001b[0;34m(\u001b[0m\u001b[0mf\u001b[0m\u001b[0;34m,\u001b[0m \u001b[0mself\u001b[0m\u001b[0;34m.\u001b[0m\u001b[0mengine\u001b[0m\u001b[0;34m)\u001b[0m\u001b[0;34m\u001b[0m\u001b[0;34m\u001b[0m\u001b[0m\n\u001b[0m\u001b[1;32m   1621\u001b[0m \u001b[0;34m\u001b[0m\u001b[0m\n\u001b[1;32m   1622\u001b[0m     \u001b[0;32mdef\u001b[0m \u001b[0mclose\u001b[0m\u001b[0;34m(\u001b[0m\u001b[0mself\u001b[0m\u001b[0;34m)\u001b[0m \u001b[0;34m->\u001b[0m \u001b[0;32mNone\u001b[0m\u001b[0;34m:\u001b[0m\u001b[0;34m\u001b[0m\u001b[0;34m\u001b[0m\u001b[0m\n",
            "\u001b[0;32m/usr/local/lib/python3.11/dist-packages/pandas/io/parsers/readers.py\u001b[0m in \u001b[0;36m_make_engine\u001b[0;34m(self, f, engine)\u001b[0m\n\u001b[1;32m   1878\u001b[0m                 \u001b[0;32mif\u001b[0m \u001b[0;34m\"b\"\u001b[0m \u001b[0;32mnot\u001b[0m \u001b[0;32min\u001b[0m \u001b[0mmode\u001b[0m\u001b[0;34m:\u001b[0m\u001b[0;34m\u001b[0m\u001b[0;34m\u001b[0m\u001b[0m\n\u001b[1;32m   1879\u001b[0m                     \u001b[0mmode\u001b[0m \u001b[0;34m+=\u001b[0m \u001b[0;34m\"b\"\u001b[0m\u001b[0;34m\u001b[0m\u001b[0;34m\u001b[0m\u001b[0m\n\u001b[0;32m-> 1880\u001b[0;31m             self.handles = get_handle(\n\u001b[0m\u001b[1;32m   1881\u001b[0m                 \u001b[0mf\u001b[0m\u001b[0;34m,\u001b[0m\u001b[0;34m\u001b[0m\u001b[0;34m\u001b[0m\u001b[0m\n\u001b[1;32m   1882\u001b[0m                 \u001b[0mmode\u001b[0m\u001b[0;34m,\u001b[0m\u001b[0;34m\u001b[0m\u001b[0;34m\u001b[0m\u001b[0m\n",
            "\u001b[0;32m/usr/local/lib/python3.11/dist-packages/pandas/io/common.py\u001b[0m in \u001b[0;36mget_handle\u001b[0;34m(path_or_buf, mode, encoding, compression, memory_map, is_text, errors, storage_options)\u001b[0m\n\u001b[1;32m    871\u001b[0m         \u001b[0;32mif\u001b[0m \u001b[0mioargs\u001b[0m\u001b[0;34m.\u001b[0m\u001b[0mencoding\u001b[0m \u001b[0;32mand\u001b[0m \u001b[0;34m\"b\"\u001b[0m \u001b[0;32mnot\u001b[0m \u001b[0;32min\u001b[0m \u001b[0mioargs\u001b[0m\u001b[0;34m.\u001b[0m\u001b[0mmode\u001b[0m\u001b[0;34m:\u001b[0m\u001b[0;34m\u001b[0m\u001b[0;34m\u001b[0m\u001b[0m\n\u001b[1;32m    872\u001b[0m             \u001b[0;31m# Encoding\u001b[0m\u001b[0;34m\u001b[0m\u001b[0;34m\u001b[0m\u001b[0m\n\u001b[0;32m--> 873\u001b[0;31m             handle = open(\n\u001b[0m\u001b[1;32m    874\u001b[0m                 \u001b[0mhandle\u001b[0m\u001b[0;34m,\u001b[0m\u001b[0;34m\u001b[0m\u001b[0;34m\u001b[0m\u001b[0m\n\u001b[1;32m    875\u001b[0m                 \u001b[0mioargs\u001b[0m\u001b[0;34m.\u001b[0m\u001b[0mmode\u001b[0m\u001b[0;34m,\u001b[0m\u001b[0;34m\u001b[0m\u001b[0;34m\u001b[0m\u001b[0m\n",
            "\u001b[0;31mFileNotFoundError\u001b[0m: [Errno 2] No such file or directory: 'data_cleaned.csv'"
          ]
        }
      ]
    },
    {
      "cell_type": "markdown",
      "source": [
        "# **4. Exploratory Data Analysis (EDA)**\n",
        "\n",
        "Pada tahap ini, Anda akan melakukan **Exploratory Data Analysis (EDA)** untuk memahami karakteristik dataset. EDA bertujuan untuk:\n",
        "\n",
        "1. **Memahami Struktur Data**\n",
        "   - Tinjau jumlah baris dan kolom dalam dataset.  \n",
        "   - Tinjau jenis data di setiap kolom (numerikal atau kategorikal).\n",
        "\n",
        "2. **Menangani Data yang Hilang**  \n",
        "   - Identifikasi dan analisis data yang hilang (*missing values*). Tentukan langkah-langkah yang diperlukan untuk menangani data yang hilang, seperti pengisian atau penghapusan data tersebut.\n",
        "\n",
        "3. **Analisis Distribusi dan Korelasi**  \n",
        "   - Analisis distribusi variabel numerik dengan statistik deskriptif dan visualisasi seperti histogram atau boxplot.  \n",
        "   - Periksa hubungan antara variabel menggunakan matriks korelasi atau scatter plot.\n",
        "\n",
        "4. **Visualisasi Data**  \n",
        "   - Buat visualisasi dasar seperti grafik distribusi dan diagram batang untuk variabel kategorikal.  \n",
        "   - Gunakan heatmap atau pairplot untuk menganalisis korelasi antar variabel.\n",
        "\n",
        "Tujuan dari EDA adalah untuk memperoleh wawasan awal yang mendalam mengenai data dan menentukan langkah selanjutnya dalam analisis atau pemodelan."
      ],
      "metadata": {
        "id": "bgZkbJLpK9UR"
      }
    },
    {
      "cell_type": "markdown",
      "source": [
        "**1. Memahami Struktur Data**"
      ],
      "metadata": {
        "id": "kOjVHgalp5sF"
      }
    },
    {
      "cell_type": "code",
      "source": [
        "data.describe()"
      ],
      "metadata": {
        "id": "dKeejtvxM6X1"
      },
      "execution_count": null,
      "outputs": []
    },
    {
      "cell_type": "markdown",
      "source": [
        "**2. Menangani Data yang Hilang**"
      ],
      "metadata": {
        "id": "TjHKUxz1p1cS"
      }
    },
    {
      "cell_type": "code",
      "source": [
        "data.isnull().sum()"
      ],
      "metadata": {
        "id": "bluLIOoQp1Dr"
      },
      "execution_count": null,
      "outputs": []
    },
    {
      "cell_type": "code",
      "source": [
        "data.info()"
      ],
      "metadata": {
        "id": "-pRB2em1qFlG"
      },
      "execution_count": null,
      "outputs": []
    },
    {
      "cell_type": "markdown",
      "source": [
        "**3. Analisis Distribusi dan Korelasi**"
      ],
      "metadata": {
        "id": "rVXFfTLEqCvM"
      }
    },
    {
      "cell_type": "code",
      "source": [
        "data.hist(figsize=(10,8))\n",
        "plt.show()"
      ],
      "metadata": {
        "id": "EuX0CZ_MqDN7"
      },
      "execution_count": null,
      "outputs": []
    },
    {
      "cell_type": "code",
      "source": [
        "numerical_columns = data.select_dtypes(include=['float64', 'int64']).columns"
      ],
      "metadata": {
        "id": "oGXewTzLqSzd"
      },
      "execution_count": null,
      "outputs": []
    },
    {
      "cell_type": "code",
      "source": [
        "for column in numerical_columns:\n",
        "    plt.figure(figsize=(14, 6))\n",
        "    plt.subplot(1, 2, 1)\n",
        "    sns.histplot(data[column], kde=True,bins=30,color='blue')\n",
        "    plt.title(f'Histogram of {column}')\n",
        "    plt.xlabel(column)\n",
        "    plt.ylabel('Freqkuensi')"
      ],
      "metadata": {
        "id": "R3qD5OkrqUMw"
      },
      "execution_count": null,
      "outputs": []
    },
    {
      "cell_type": "code",
      "source": [
        "for column in numerical_columns:\n",
        "    plt.figure(figsize=(8, 4))\n",
        "    plt.subplot(1, 2, 2)\n",
        "    sns.boxplot(y=data[column], color='green')\n",
        "    plt.title(f\"Boxplot: {column}\")\n",
        "    plt.ylabel(column)\n",
        "\n",
        "    plt.tight_layout()\n",
        "    plt.show()"
      ],
      "metadata": {
        "id": "l6SNYdudtJ85"
      },
      "execution_count": null,
      "outputs": []
    },
    {
      "cell_type": "code",
      "source": [
        "sns.set(style=\"whitegrid\")\n",
        "\n",
        "plt.figure(figsize=(10, 6))\n",
        "sns.histplot(data['unit_price'], kde=True, bins=20, color='skyblue')\n",
        "plt.title('Distribusi Harga Satuan', fontsize=16)\n",
        "plt.xlabel('Harga Satuan', fontsize=12)\n",
        "plt.ylabel('Jumlah', fontsize=12)\n",
        "plt.show()\n",
        "\n",
        "plt.figure(figsize=(10, 6))\n",
        "category_counts = data['category'].value_counts()\n",
        "sns.barplot(x=category_counts.index.astype(str), y=category_counts.values, palette='viridis')\n",
        "plt.title('Distribusi Kategori Produk', fontsize=16)\n",
        "plt.xlabel('Kategori Produk', fontsize=12)\n",
        "plt.ylabel('Jumlah', fontsize=12)\n",
        "plt.show()\n",
        "\n",
        "plt.figure(figsize=(12, 6))\n",
        "top_products = data.groupby('product')['quantity'].sum().sort_values(ascending=False).head(5)\n",
        "sns.barplot(x=top_products.index.astype(str), y=top_products.values, palette='coolwarm')\n",
        "plt.title('5 Produk Terlaris berdasarkan Quantity', fontsize=16)\n",
        "plt.xlabel('ID Produk', fontsize=12)\n",
        "plt.ylabel('Jumlah Terjual', fontsize=12)\n",
        "plt.xticks(rotation=45)\n",
        "plt.show()"
      ],
      "metadata": {
        "id": "l9XHBCKStM5J"
      },
      "execution_count": null,
      "outputs": []
    },
    {
      "cell_type": "code",
      "source": [
        "correlation_matrix = data[numerical_columns].corr()"
      ],
      "metadata": {
        "id": "65GO2ra9uOfc"
      },
      "execution_count": null,
      "outputs": []
    },
    {
      "cell_type": "code",
      "source": [
        "plt.figure(figsize=(10, 8))\n",
        "sns.heatmap(correlation_matrix, annot=True, cmap='coolwarm', fmt=\".2f\", linewidths=0.5)\n",
        "plt.title(\"Heatmap Matriks Korelasi\")\n",
        "plt.show()"
      ],
      "metadata": {
        "id": "4mAmufl_uPYu"
      },
      "execution_count": null,
      "outputs": []
    },
    {
      "cell_type": "markdown",
      "source": [
        "# **5. Data Preprocessing**"
      ],
      "metadata": {
        "id": "cpgHfgnSK3ip"
      }
    },
    {
      "cell_type": "markdown",
      "source": [
        "Pada tahap ini, data preprocessing adalah langkah penting untuk memastikan kualitas data sebelum digunakan dalam model machine learning. Data mentah sering kali mengandung nilai kosong, duplikasi, atau rentang nilai yang tidak konsisten, yang dapat memengaruhi kinerja model. Oleh karena itu, proses ini bertujuan untuk membersihkan dan mempersiapkan data agar analisis berjalan optimal.\n",
        "\n",
        "Berikut adalah tahapan-tahapan yang bisa dilakukan, tetapi **tidak terbatas** pada:\n",
        "1. Menghapus atau Menangani Data Kosong (Missing Values)\n",
        "2. Menghapus Data Duplikat\n",
        "3. Normalisasi atau Standarisasi Fitur\n",
        "4. Deteksi dan Penanganan Outlier\n",
        "5. Encoding Data Kategorikal\n",
        "6. Binning (Pengelompokan Data)\n",
        "\n",
        "Cukup sesuaikan dengan karakteristik data yang kamu gunakan yah."
      ],
      "metadata": {
        "id": "COf8KUPXLg5r"
      }
    },
    {
      "cell_type": "markdown",
      "source": [
        "**1. Menghapus atau Menangani Data Kosong (Missing Values)**"
      ],
      "metadata": {
        "id": "2hPwh-o1uXV9"
      }
    },
    {
      "cell_type": "code",
      "source": [
        "data.drop(columns=['Tanggal'], inplace=True, errors='ignore')\n",
        "\n",
        "print(data.select_dtypes(include=['object']).columns)"
      ],
      "metadata": {
        "id": "a_j35VrHudpV"
      },
      "execution_count": null,
      "outputs": []
    },
    {
      "cell_type": "code",
      "source": [
        "le = LabelEncoder()\n",
        "for col in data.select_dtypes(include='object'):\n",
        "    data[col] = le.fit_transform(data[col])"
      ],
      "metadata": {
        "id": "uQyMB7yDwx-b"
      },
      "execution_count": null,
      "outputs": []
    },
    {
      "cell_type": "code",
      "source": [
        "missing_values = data.isnull().sum()\n",
        "print(\"Missing values sebelum dibersihkan:\\n\", missing_values)\n",
        "\n",
        "data_cleaned = data.dropna()\n",
        "\n",
        "missing_values_after = data_cleaned.isnull().sum()\n",
        "print(\"\\nMissing values setelah dibersihkan:\\n\", missing_values_after)"
      ],
      "metadata": {
        "id": "WzBGjcbQM7N8"
      },
      "execution_count": null,
      "outputs": []
    },
    {
      "cell_type": "code",
      "source": [
        "data_cleaned.info()"
      ],
      "metadata": {
        "id": "HjRb1qPOvnwg"
      },
      "execution_count": null,
      "outputs": []
    },
    {
      "cell_type": "code",
      "source": [
        "data_cleaned"
      ],
      "metadata": {
        "id": "uo_Wpa70vqSg"
      },
      "execution_count": null,
      "outputs": []
    },
    {
      "cell_type": "markdown",
      "source": [
        "**2. Menghapus Data Duplikat**\n",
        "\n",
        "Tidak ada Data yang terduplikat\n"
      ],
      "metadata": {
        "id": "3toBD4Ukvy-j"
      }
    },
    {
      "cell_type": "markdown",
      "source": [
        "**3. Normalisasi atau Standarisasi Fitur**\n",
        "\n",
        "Dikarenakan saya ingin menormalisasikan data kategorikal, jadi saya dahulukan proses encoding"
      ],
      "metadata": {
        "id": "g6-Gqt7tv66F"
      }
    },
    {
      "cell_type": "code",
      "source": [
        "categorical_columns = ['customer_type', 'product', 'category', 'region', 'cluster']\n",
        "\n",
        "label_encoders = {col: LabelEncoder() for col in categorical_columns}\n",
        "\n",
        "for col in categorical_columns:\n",
        "    data_cleaned[col] = label_encoders[col].fit_transform(data_cleaned[col])\n",
        "\n",
        "data_cleaned.head()"
      ],
      "metadata": {
        "id": "-89TBXL9wlB-"
      },
      "execution_count": null,
      "outputs": []
    },
    {
      "cell_type": "code",
      "source": [
        "numeric_features = [\"unit_price\", \"quantity\", \"discount\", \"total_price\"]\n",
        "\n",
        "scaler = StandardScaler()\n",
        "normalized_features = scaler.fit_transform(data_cleaned[numeric_features])\n",
        "\n",
        "normalized_df = pd.DataFrame(normalized_features, columns=numeric_features)\n",
        "\n",
        "normalized_df.head()"
      ],
      "metadata": {
        "id": "qoqMamZuw6h_"
      },
      "execution_count": null,
      "outputs": []
    },
    {
      "cell_type": "markdown",
      "source": [
        "**4. Deteksi dan Penanganan Outlier**"
      ],
      "metadata": {
        "id": "BWli0rxjxDF7"
      }
    },
    {
      "cell_type": "code",
      "source": [
        "Q1 = data_cleaned['unit_price'].quantile(0.25)\n",
        "Q3 = data_cleaned['unit_price'].quantile(0.75)\n",
        "IQR = Q3 - Q1\n",
        "\n",
        "lower_bound = Q1 - 1.5 * IQR\n",
        "upper_bound = Q3 + 1.5 * IQR\n",
        "\n",
        "data_cleaned['unit_price_outlier'] = ((data_cleaned['unit_price'] < lower_bound) |\n",
        "                                      (data_cleaned['unit_price'] > upper_bound))"
      ],
      "metadata": {
        "id": "y2yXKACWxFvj"
      },
      "execution_count": null,
      "outputs": []
    },
    {
      "cell_type": "code",
      "source": [
        "Q1 = data_cleaned['quantity'].quantile(0.25)\n",
        "Q3 = data_cleaned['quantity'].quantile(0.75)\n",
        "IQR = Q3 - Q1\n",
        "\n",
        "lower_bound = Q1 - 1.5 * IQR\n",
        "upper_bound = Q3 + 1.5 * IQR\n",
        "\n",
        "data_cleaned['quantity_outlier'] = ((data_cleaned['quantity'] < lower_bound) |\n",
        "                                    (data_cleaned['quantity'] > upper_bound))"
      ],
      "metadata": {
        "id": "fkAZJL2zyBJA"
      },
      "execution_count": null,
      "outputs": []
    },
    {
      "cell_type": "code",
      "source": [
        "Q1 = data_cleaned['discount'].quantile(0.25)\n",
        "Q3 = data_cleaned['discount'].quantile(0.75)\n",
        "IQR = Q3 - Q1\n",
        "\n",
        "lower_bound = Q1 - 1.5 * IQR\n",
        "upper_bound = Q3 + 1.5 * IQR\n",
        "\n",
        "data_cleaned['discount_outlier'] = ((data_cleaned['discount'] < lower_bound) |\n",
        "                                    (data_cleaned['discount'] > upper_bound))"
      ],
      "metadata": {
        "id": "5HHv4nJAyEO0"
      },
      "execution_count": null,
      "outputs": []
    },
    {
      "cell_type": "code",
      "source": [
        "Q1 = data_cleaned['total_price'].quantile(0.25)\n",
        "Q3 = data_cleaned['total_price'].quantile(0.75)\n",
        "IQR = Q3 - Q1\n",
        "\n",
        "lower_bound = Q1 - 1.5 * IQR\n",
        "upper_bound = Q3 + 1.5 * IQR\n",
        "\n",
        "data_cleaned['total_price_outlier'] = ((data_cleaned['total_price'] < lower_bound) |\n",
        "                                       (data_cleaned['total_price'] > upper_bound))"
      ],
      "metadata": {
        "id": "r_n6YFIbyHrs"
      },
      "execution_count": null,
      "outputs": []
    },
    {
      "cell_type": "markdown",
      "source": [
        "**5. Bining(Pengelompokan Data)**"
      ],
      "metadata": {
        "id": "rRMvZtGkyNG1"
      }
    },
    {
      "cell_type": "code",
      "source": [
        "if data_cleaned['region'].dtype == 'object':\n",
        "    le_region = LabelEncoder()\n",
        "    data_cleaned['region_encoded'] = le_region.fit_transform(data_cleaned['region'])\n",
        "else:\n",
        "    data_cleaned['region_encoded'] = data_cleaned['region']\n",
        "\n",
        "bin_region_0_10 = data_cleaned[\"region_encoded\"][(data_cleaned[\"region_encoded\"] >= 0) & (data_cleaned[\"region_encoded\"] <= 10)]\n",
        "bin_region_11_20 = data_cleaned[\"region_encoded\"][(data_cleaned[\"region_encoded\"] >= 11) & (data_cleaned[\"region_encoded\"] <= 20)]\n",
        "bin_region_21_30 = data_cleaned[\"region_encoded\"][(data_cleaned[\"region_encoded\"] >= 21) & (data_cleaned[\"region_encoded\"] <= 30)]\n",
        "bin_region_31_40 = data_cleaned[\"region_encoded\"][(data_cleaned[\"region_encoded\"] >= 31) & (data_cleaned[\"region_encoded\"] <= 40)]\n",
        "\n",
        "region_bins = [\"0-10\", \"11-20\", \"21-30\", \"31-40\"]\n",
        "region_counts = [len(bin_region_0_10), len(bin_region_11_20), len(bin_region_21_30), len(bin_region_31_40)]\n",
        "\n",
        "plt.figure(figsize=(15, 6))\n",
        "plt.bar(region_bins, region_counts, color=['red', 'green', 'blue', 'cyan'])\n",
        "plt.title(\"Distribusi Region Berdasarkan Rentang Kode\")\n",
        "plt.xlabel(\"Region (Encoded)\")\n",
        "plt.ylabel(\"Jumlah Peserta\")\n",
        "plt.xticks(rotation=45)\n",
        "for i in range(len(region_bins)):\n",
        "    plt.text(i, region_counts[i], region_counts[i], ha='center', va='bottom')\n",
        "\n",
        "plt.show()"
      ],
      "metadata": {
        "id": "DexlNCW-yPCM"
      },
      "execution_count": null,
      "outputs": []
    },
    {
      "cell_type": "code",
      "source": [
        "bin_qty_0_10 = data_cleaned[\"quantity\"][(data_cleaned[\"quantity\"] >= 0) & (data_cleaned[\"quantity\"] <= 10)]\n",
        "bin_qty_11_20 = data_cleaned[\"quantity\"][(data_cleaned[\"quantity\"] >= 11) & (data_cleaned[\"quantity\"] <= 20)]\n",
        "bin_qty_21_30 = data_cleaned[\"quantity\"][(data_cleaned[\"quantity\"] >= 21) & (data_cleaned[\"quantity\"] <= 30)]\n",
        "\n",
        "kategori = [\"0-10\", \"11-20\", \"21-30\"]\n",
        "jumlah = [len(bin_qty_0_10), len(bin_qty_11_20), len(bin_qty_21_30)]\n",
        "\n",
        "plt.figure(figsize=(15, 6))\n",
        "plt.bar(kategori, jumlah, color=['red', 'green', 'blue'])\n",
        "plt.title(\"Distribusi Jumlah Produk (Quantity)\")\n",
        "plt.xlabel(\"Rentang Quantity\")\n",
        "plt.ylabel(\"Jumlah Peserta\")\n",
        "plt.xticks(rotation=45)\n",
        "\n",
        "for i in range(len(kategori)):\n",
        "    plt.text(i, jumlah[i], jumlah[i], ha='center', va='bottom')\n",
        "\n",
        "plt.show()"
      ],
      "metadata": {
        "id": "0aOojp8Tz1kN"
      },
      "execution_count": null,
      "outputs": []
    },
    {
      "cell_type": "markdown",
      "source": [
        "# **6. Pembangunan Model Clustering**"
      ],
      "metadata": {
        "id": "BR73dCnrLEiq"
      }
    },
    {
      "cell_type": "markdown",
      "source": [
        "## **a. Pembangunan Model Clustering**"
      ],
      "metadata": {
        "id": "Fkd_QHXWMBDr"
      }
    },
    {
      "cell_type": "markdown",
      "source": [
        "Pada tahap ini, Anda membangun model clustering dengan memilih algoritma yang sesuai untuk mengelompokkan data berdasarkan kesamaan. Berikut adalah **rekomendasi** tahapannya.\n",
        "1. Pilih algoritma clustering yang sesuai.\n",
        "2. Latih model dengan data menggunakan algoritma tersebut."
      ],
      "metadata": {
        "id": "Kn6Y2qbqMVLP"
      }
    },
    {
      "cell_type": "code",
      "source": [
        "X = data_cleaned[['unit_price', 'total_price']]\n",
        "\n",
        "kmeans = KMeans(n_clusters=3, random_state=42)\n",
        "\n",
        "kmeans.fit(X)"
      ],
      "metadata": {
        "id": "hgYvwWOzM93L"
      },
      "execution_count": null,
      "outputs": []
    },
    {
      "cell_type": "markdown",
      "source": [
        "## **b. Evaluasi Model Clustering**"
      ],
      "metadata": {
        "id": "zsGVwzPKMEvn"
      }
    },
    {
      "cell_type": "markdown",
      "source": [
        "Untuk menentukan jumlah cluster yang optimal dalam model clustering, Anda dapat menggunakan metode Elbow atau Silhouette Score.\n",
        "\n",
        "Metode ini membantu kita menemukan jumlah cluster yang memberikan pemisahan terbaik antar kelompok data, sehingga model yang dibangun dapat lebih efektif. Berikut adalah **rekomendasi** tahapannya.\n",
        "1. Gunakan Silhouette Score dan Elbow Method untuk menentukan jumlah cluster optimal.\n",
        "2. Hitung Silhouette Score sebagai ukuran kualitas cluster."
      ],
      "metadata": {
        "id": "qk63ew39MeBf"
      }
    },
    {
      "cell_type": "markdown",
      "source": [
        "**1. Menggunakan Elbow Method**"
      ],
      "metadata": {
        "id": "jIIonOsV0mfd"
      }
    },
    {
      "cell_type": "code",
      "source": [
        "kmeans = KMeans()\n",
        "\n",
        "visualizer = KElbowVisualizer(kmeans, k=(1, 10))\n",
        "\n",
        "visualizer.fit(X)\n",
        "\n",
        "visualizer.show()"
      ],
      "metadata": {
        "id": "yrPkK_bvM-Ya"
      },
      "execution_count": null,
      "outputs": []
    },
    {
      "cell_type": "code",
      "source": [
        "kmeans = KMeans(n_clusters=2, random_state=42)\n",
        "kmeans.fit(X)\n",
        "\n",
        "data_cleaned['Cluster'] = kmeans.labels_\n",
        "\n",
        "centroid = kmeans.cluster_centers_\n",
        "\n",
        "plt.figure(figsize=(10, 6))\n",
        "sns.scatterplot(data=data_cleaned, x=\"unit_price\", y=\"total_price\", hue=\"Cluster\", palette=\"Set1\", s=50)\n",
        "plt.scatter(centroid[:, 0], centroid[:, 1], c=\"black\", marker=\"X\", s=200, label=\"Centroids\")\n",
        "plt.title(\"Clustering Result (unit_price vs total_price)\", fontsize=14)\n",
        "plt.xlabel(\"Unit Price\")\n",
        "plt.ylabel(\"Total Price\")\n",
        "plt.legend(loc='upper center', bbox_to_anchor=(0.5, 1.15), ncol=3)\n",
        "plt.grid()\n",
        "plt.show()"
      ],
      "metadata": {
        "id": "5t7OtJHv1PvX"
      },
      "execution_count": null,
      "outputs": []
    },
    {
      "cell_type": "markdown",
      "source": [
        "**2. Menghitung Silhoutte score**"
      ],
      "metadata": {
        "id": "lTSYYFtR1bVj"
      }
    },
    {
      "cell_type": "code",
      "source": [
        "silhouette_avg = silhouette_score(X,kmeans.labels_)\n",
        "silhouette_avg"
      ],
      "metadata": {
        "id": "vVcLwo-O1b89"
      },
      "execution_count": null,
      "outputs": []
    },
    {
      "cell_type": "markdown",
      "source": [
        "## **c. Feature Selection (Opsional)**"
      ],
      "metadata": {
        "id": "vWZp5vKNQddd"
      }
    },
    {
      "cell_type": "markdown",
      "source": [
        "Silakan lakukan feature selection jika Anda membutuhkan optimasi model clustering. Jika Anda menerapkan proses ini, silakan lakukan pemodelan dan evaluasi kembali menggunakan kolom-kolom hasil feature selection. Terakhir, bandingkan hasil performa model sebelum dan sesudah menerapkan feature selection."
      ],
      "metadata": {
        "id": "QIHKgE07Q4c0"
      }
    },
    {
      "cell_type": "code",
      "source": [
        "#Type your code here"
      ],
      "metadata": {
        "id": "Vbstha0PRUpI"
      },
      "execution_count": null,
      "outputs": []
    },
    {
      "cell_type": "markdown",
      "source": [
        "## **d. Visualisasi Hasil Clustering**"
      ],
      "metadata": {
        "id": "nn01TKkLLRiF"
      }
    },
    {
      "cell_type": "markdown",
      "source": [
        "Setelah model clustering dilatih dan jumlah cluster optimal ditentukan, langkah selanjutnya adalah menampilkan hasil clustering melalui visualisasi.\n",
        "\n",
        "Berikut adalah **rekomendasi** tahapannya.\n",
        "1. Tampilkan hasil clustering dalam bentuk visualisasi, seperti grafik scatter plot atau 2D PCA projection."
      ],
      "metadata": {
        "id": "gaz0fnhhMkRI"
      }
    },
    {
      "cell_type": "code",
      "source": [
        "pca = PCA(n_components=2)\n",
        "X_pca = pca.fit_transform(X)\n",
        "\n",
        "kmeans_pca = KMeans(n_clusters=2, random_state=42)\n",
        "kmeans_pca.fit(X_pca)\n",
        "\n",
        "plt.figure(figsize=(10, 6))\n",
        "sns.scatterplot(x=X_pca[:, 0], y=X_pca[:, 1], hue=kmeans_pca.labels_, palette=\"Set1\", s=50)\n",
        "plt.scatter(kmeans_pca.cluster_centers_[:, 0], kmeans_pca.cluster_centers_[:, 1],\n",
        "            c=\"black\", marker=\"X\", s=200, label=\"Centroids\")\n",
        "plt.title(\"Hasil Cluster(PCA Projection)\", fontsize=14)\n",
        "plt.xlabel(\"Komponen 1\")\n",
        "plt.ylabel(\"Komponen 2\")\n",
        "plt.legend(loc='upper center', bbox_to_anchor=(0.5, 1.15), ncol=3)\n",
        "plt.grid()\n",
        "plt.show()"
      ],
      "metadata": {
        "id": "lfOjVvfYM-4v"
      },
      "execution_count": null,
      "outputs": []
    },
    {
      "cell_type": "markdown",
      "source": [
        "## **e. Analisis dan Interpretasi Hasil Cluster**"
      ],
      "metadata": {
        "id": "X4eydPWJLH4I"
      }
    },
    {
      "cell_type": "markdown",
      "source": [
        "Setelah melakukan clustering, langkah selanjutnya adalah menganalisis karakteristik dari masing-masing cluster berdasarkan fitur yang tersedia.\n",
        "\n",
        "Berikut adalah **rekomendasi** tahapannya.\n",
        "1. Analisis karakteristik tiap cluster berdasarkan fitur yang tersedia (misalnya, distribusi nilai dalam cluster).\n",
        "2. Berikan interpretasi: Apakah hasil clustering sesuai dengan ekspektasi dan logika bisnis? Apakah ada pola tertentu yang bisa dimanfaatkan?"
      ],
      "metadata": {
        "id": "SENfLnfRMpC-"
      }
    },
    {
      "cell_type": "markdown",
      "source": [
        "**1. Analisis Karakteristik Tiap Cluster**"
      ],
      "metadata": {
        "id": "dJJlRfU236Wp"
      }
    },
    {
      "cell_type": "code",
      "source": [
        "data_cleaned['Cluster'] = kmeans_pca.labels_\n",
        "\n",
        "cluster_summary = data_cleaned.groupby('Cluster')[['unit_price', 'total_price', 'quantity', 'discount']].mean()\n",
        "print(cluster_summary)"
      ],
      "metadata": {
        "id": "aiWRDfdh3Y-I"
      },
      "execution_count": null,
      "outputs": []
    },
    {
      "cell_type": "markdown",
      "source": [
        "**Hasil Ringkasan:**\n",
        "\n",
        "Cluster,\tunit_price,\ttotal_price,\tquantity,\tdiscount\n",
        "\n",
        "0,\tLebih tinggi,\tLebih tinggi,\tLebih besar,\tLebih rendah\n",
        "\n",
        "1,\tLebih rendah,\tLebih rendah,\tLebih kecil,\tLebih tinggi"
      ],
      "metadata": {
        "id": "0ZTOLxS03fuz"
      }
    },
    {
      "cell_type": "markdown",
      "source": [
        "Cluster 0: Transaksi besar, pelanggan membeli dalam jumlah banyak, harga tinggi, dan diskon rendah → kemungkinan pelanggan loyal atau premium.\n",
        "\n",
        "Cluster 1: Transaksi kecil, jumlah pembelian sedikit, harga rendah, namun mendapatkan diskon lebih tinggi → bisa jadi pelanggan baru atau reguler yang sensitif terhadap harga."
      ],
      "metadata": {
        "id": "Chlotp4332Zq"
      }
    },
    {
      "cell_type": "markdown",
      "source": [
        "**2. Interpretasi: Apakah hasil clustering sesuai dengan ekspektasi dan logika bisnis?**"
      ],
      "metadata": {
        "id": "a3ecEluA3895"
      }
    },
    {
      "cell_type": "markdown",
      "source": [
        "Ya, hasil clustering ini sangat relevan secara bisnis dan sesuai dengan ekspektasi. Clustering berhasil memisahkan dua tipe perilaku pelanggan:\n",
        "\n",
        "- Pelanggan dengan volume pembelian tinggi tapi diskon kecil → cocok ditargetkan untuk loyalty program atau upselling.\n",
        "\n",
        "- Pelanggan dengan diskon tinggi dan pembelian kecil → bisa diarahkan ke strategi promosi atau edukasi produk untuk mendorong pembelian lebih banyak.\n",
        "\n",
        "Hal ini menunjukkan bahwa clustering bisa dimanfaatkan untuk:\n",
        "\n",
        "- Segmentasi pelanggan\n",
        "\n",
        "- Pengambilan keputusan marketing\n",
        "\n",
        "- Personalized offer"
      ],
      "metadata": {
        "id": "aTTK-J254QXv"
      }
    },
    {
      "cell_type": "markdown",
      "source": [
        "Tulis hasil interpretasinya di sini.\n",
        "1. Cluster 1:\n",
        "   - Berisi pelanggan dengan unit_price dan total_price tinggi.\n",
        "   - Membeli dalam jumlah besar (quantity besar) dan menerima sedikit diskon.\n",
        "   - Kemungkinan adalah pelanggan loyal atau premium.\n",
        "\n",
        "2. Cluster 2:\n",
        "   - Berisi pelanggan dengan total transaksi kecil dan lebih banyak diskon.\n",
        "   - Quantity lebih rendah.\n",
        "   - Kemungkinan pelanggan baru atau pembeli musiman."
      ],
      "metadata": {
        "id": "JfgVMEBDS3KG"
      }
    },
    {
      "cell_type": "markdown",
      "source": [
        "# **7. Mengeksport Data**\n",
        "\n",
        "Simpan hasilnya ke dalam file CSV."
      ],
      "metadata": {
        "id": "jaYP1fx5VgWO"
      }
    },
    {
      "cell_type": "code",
      "source": [
        "data_cleaned.to_csv(\"data_clustering.csv\", index=False)"
      ],
      "metadata": {
        "id": "fkbg_o80aRSH"
      },
      "execution_count": null,
      "outputs": []
    },
    {
      "cell_type": "code",
      "source": [],
      "metadata": {
        "id": "zxa0SLXd4vnK"
      },
      "execution_count": null,
      "outputs": []
    }
  ]
}